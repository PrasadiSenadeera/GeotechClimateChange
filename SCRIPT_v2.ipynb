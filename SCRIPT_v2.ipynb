{
 "cells": [
  {
   "cell_type": "code",
   "execution_count": null,
   "metadata": {},
   "outputs": [],
   "source": []
  },
  {
   "cell_type": "code",
   "execution_count": 1,
   "metadata": {},
   "outputs": [],
   "source": [
    "from netCDF4 import Dataset, num2date\n",
    "#we could otherwise import the whole netCDF4 instead that specific functions. \n",
    "#if so, to call specific func we type ex netCDF4.num2datea"
   ]
  },
  {
   "cell_type": "code",
   "execution_count": 2,
   "metadata": {},
   "outputs": [],
   "source": [
    "#now we use the package to open the file and extract the data from the file\n",
    "#for visualisation is better to use another package\n",
    "#our file has 4 variables: latitude, longitude, time, temperature(air) \n",
    "#for each time, lat and long...it has the value of temperature\n",
    "import pandas as pd\n",
    "import seaborn as sns\n",
    "from matplotlib import pyplot as plt\n",
    "%matplotlib inline"
   ]
  },
  {
   "cell_type": "code",
   "execution_count": 3,
   "metadata": {},
   "outputs": [],
   "source": [
    "#our dataset has 4 variables so it s a bit more messy to work with: the time! \n",
    "#so it is not a table but a cube\n",
    "#now we open the file using netCDF4 and extract data\n",
    "file = 'air.mon.mean.nc'\n",
    "nc = Dataset(file, mode='r')"
   ]
  },
  {
   "cell_type": "code",
   "execution_count": 4,
   "metadata": {},
   "outputs": [
    {
     "data": {
      "text/plain": [
       "dict_keys(['lat', 'lon', 'time', 'air'])"
      ]
     },
     "execution_count": 4,
     "metadata": {},
     "output_type": "execute_result"
    }
   ],
   "source": [
    "nc.variables.keys()"
   ]
  },
  {
   "cell_type": "code",
   "execution_count": 5,
   "metadata": {},
   "outputs": [],
   "source": [
    "#we are now storing the values of each variable under the names (lat, lon, air, time)\n",
    "#so: going to nc then to variables get the key lat and store all values into a variable we call lat\n",
    "#the last one is a bit funky because its not a number nor a string but is a format called datetime.\n",
    "#so we want to make sure that python understands we are talking about a date and not just a number (num2date)\n",
    "# ':' means we want aaall the rows and not just one\n",
    "lat = nc.variables['lat'][:]\n",
    "lon = nc.variables['lon'][:]\n",
    "air = nc.variables['air'][:]\n",
    "time_var = nc.variables['time']\n",
    "dtime = num2date(time_var[:], time_var.units)"
   ]
  },
  {
   "cell_type": "code",
   "execution_count": 6,
   "metadata": {},
   "outputs": [],
   "source": [
    "#since we have 3 dimensions we have to tell pandas that he is excepting a multiIndex\n",
    "#the first variable names is just a list with the names of the things\n",
    "#the second line we create a MultiIndex on time, lon and lat\n",
    "#then we pass the values of air temp\n",
    "names = ['time', 'lat','lon']\n",
    "index = pd.MultiIndex.from_product([dtime, lat, lon], names=names)\n",
    "df = pd.DataFrame ({'Air':air.flatten()}, index=index)"
   ]
  },
  {
   "cell_type": "code",
   "execution_count": 7,
   "metadata": {
    "scrolled": true
   },
   "outputs": [
    {
     "data": {
      "text/html": [
       "<div>\n",
       "<style scoped>\n",
       "    .dataframe tbody tr th:only-of-type {\n",
       "        vertical-align: middle;\n",
       "    }\n",
       "\n",
       "    .dataframe tbody tr th {\n",
       "        vertical-align: top;\n",
       "    }\n",
       "\n",
       "    .dataframe thead th {\n",
       "        text-align: right;\n",
       "    }\n",
       "</style>\n",
       "<table border=\"1\" class=\"dataframe\">\n",
       "  <thead>\n",
       "    <tr style=\"text-align: right;\">\n",
       "      <th></th>\n",
       "      <th></th>\n",
       "      <th></th>\n",
       "      <th>Air</th>\n",
       "    </tr>\n",
       "    <tr>\n",
       "      <th>time</th>\n",
       "      <th>lat</th>\n",
       "      <th>lon</th>\n",
       "      <th></th>\n",
       "    </tr>\n",
       "  </thead>\n",
       "  <tbody>\n",
       "    <tr>\n",
       "      <td rowspan=\"5\" valign=\"top\">1948-01-01</td>\n",
       "      <td rowspan=\"5\" valign=\"top\">90.0</td>\n",
       "      <td>0.0</td>\n",
       "      <td>-34.926773</td>\n",
       "    </tr>\n",
       "    <tr>\n",
       "      <td>2.5</td>\n",
       "      <td>-34.926773</td>\n",
       "    </tr>\n",
       "    <tr>\n",
       "      <td>5.0</td>\n",
       "      <td>-34.926773</td>\n",
       "    </tr>\n",
       "    <tr>\n",
       "      <td>7.5</td>\n",
       "      <td>-34.926773</td>\n",
       "    </tr>\n",
       "    <tr>\n",
       "      <td>10.0</td>\n",
       "      <td>-34.926773</td>\n",
       "    </tr>\n",
       "    <tr>\n",
       "      <td>...</td>\n",
       "      <td>...</td>\n",
       "      <td>...</td>\n",
       "      <td>...</td>\n",
       "    </tr>\n",
       "    <tr>\n",
       "      <td rowspan=\"5\" valign=\"top\">2020-01-01</td>\n",
       "      <td rowspan=\"5\" valign=\"top\">-90.0</td>\n",
       "      <td>347.5</td>\n",
       "      <td>-24.799204</td>\n",
       "    </tr>\n",
       "    <tr>\n",
       "      <td>350.0</td>\n",
       "      <td>-24.799204</td>\n",
       "    </tr>\n",
       "    <tr>\n",
       "      <td>352.5</td>\n",
       "      <td>-24.799204</td>\n",
       "    </tr>\n",
       "    <tr>\n",
       "      <td>355.0</td>\n",
       "      <td>-24.799204</td>\n",
       "    </tr>\n",
       "    <tr>\n",
       "      <td>357.5</td>\n",
       "      <td>-24.799204</td>\n",
       "    </tr>\n",
       "  </tbody>\n",
       "</table>\n",
       "<p>9092880 rows × 1 columns</p>\n",
       "</div>"
      ],
      "text/plain": [
       "                              Air\n",
       "time       lat   lon             \n",
       "1948-01-01  90.0 0.0   -34.926773\n",
       "                 2.5   -34.926773\n",
       "                 5.0   -34.926773\n",
       "                 7.5   -34.926773\n",
       "                 10.0  -34.926773\n",
       "...                           ...\n",
       "2020-01-01 -90.0 347.5 -24.799204\n",
       "                 350.0 -24.799204\n",
       "                 352.5 -24.799204\n",
       "                 355.0 -24.799204\n",
       "                 357.5 -24.799204\n",
       "\n",
       "[9092880 rows x 1 columns]"
      ]
     },
     "execution_count": 7,
     "metadata": {},
     "output_type": "execute_result"
    }
   ],
   "source": [
    "df"
   ]
  },
  {
   "cell_type": "code",
   "execution_count": 8,
   "metadata": {},
   "outputs": [],
   "source": [
    "#what this is doing is we are getting rid of that pesky date time values \n",
    "#and creating a new column just with the year and another just with the month\n",
    "year = [row.year for row in dtime]\n",
    "month =[row.month for row in dtime]"
   ]
  },
  {
   "cell_type": "code",
   "execution_count": 9,
   "metadata": {},
   "outputs": [],
   "source": [
    "#we are creating the pandas dataframe (the excell-like thing) but now with our new column year\n",
    "#NB. here we have the option of adding a column for 'month' but my laptop goes KO so I didnt\n",
    "names = ['year', 'lat', 'lon']\n",
    "index = pd.MultiIndex.from_product([year, lat, lon], names=names)\n",
    "df = pd.DataFrame({'Air': air.flatten()}, index=index).reset_index()"
   ]
  },
  {
   "cell_type": "code",
   "execution_count": 10,
   "metadata": {
    "scrolled": true
   },
   "outputs": [
    {
     "data": {
      "text/html": [
       "<div>\n",
       "<style scoped>\n",
       "    .dataframe tbody tr th:only-of-type {\n",
       "        vertical-align: middle;\n",
       "    }\n",
       "\n",
       "    .dataframe tbody tr th {\n",
       "        vertical-align: top;\n",
       "    }\n",
       "\n",
       "    .dataframe thead th {\n",
       "        text-align: right;\n",
       "    }\n",
       "</style>\n",
       "<table border=\"1\" class=\"dataframe\">\n",
       "  <thead>\n",
       "    <tr style=\"text-align: right;\">\n",
       "      <th></th>\n",
       "      <th>year</th>\n",
       "      <th>lat</th>\n",
       "      <th>lon</th>\n",
       "      <th>Air</th>\n",
       "    </tr>\n",
       "  </thead>\n",
       "  <tbody>\n",
       "    <tr>\n",
       "      <td>0</td>\n",
       "      <td>1948</td>\n",
       "      <td>90.0</td>\n",
       "      <td>0.0</td>\n",
       "      <td>-34.926773</td>\n",
       "    </tr>\n",
       "    <tr>\n",
       "      <td>1</td>\n",
       "      <td>1948</td>\n",
       "      <td>90.0</td>\n",
       "      <td>2.5</td>\n",
       "      <td>-34.926773</td>\n",
       "    </tr>\n",
       "    <tr>\n",
       "      <td>2</td>\n",
       "      <td>1948</td>\n",
       "      <td>90.0</td>\n",
       "      <td>5.0</td>\n",
       "      <td>-34.926773</td>\n",
       "    </tr>\n",
       "    <tr>\n",
       "      <td>3</td>\n",
       "      <td>1948</td>\n",
       "      <td>90.0</td>\n",
       "      <td>7.5</td>\n",
       "      <td>-34.926773</td>\n",
       "    </tr>\n",
       "    <tr>\n",
       "      <td>4</td>\n",
       "      <td>1948</td>\n",
       "      <td>90.0</td>\n",
       "      <td>10.0</td>\n",
       "      <td>-34.926773</td>\n",
       "    </tr>\n",
       "    <tr>\n",
       "      <td>...</td>\n",
       "      <td>...</td>\n",
       "      <td>...</td>\n",
       "      <td>...</td>\n",
       "      <td>...</td>\n",
       "    </tr>\n",
       "    <tr>\n",
       "      <td>9092875</td>\n",
       "      <td>2020</td>\n",
       "      <td>-90.0</td>\n",
       "      <td>347.5</td>\n",
       "      <td>-24.799204</td>\n",
       "    </tr>\n",
       "    <tr>\n",
       "      <td>9092876</td>\n",
       "      <td>2020</td>\n",
       "      <td>-90.0</td>\n",
       "      <td>350.0</td>\n",
       "      <td>-24.799204</td>\n",
       "    </tr>\n",
       "    <tr>\n",
       "      <td>9092877</td>\n",
       "      <td>2020</td>\n",
       "      <td>-90.0</td>\n",
       "      <td>352.5</td>\n",
       "      <td>-24.799204</td>\n",
       "    </tr>\n",
       "    <tr>\n",
       "      <td>9092878</td>\n",
       "      <td>2020</td>\n",
       "      <td>-90.0</td>\n",
       "      <td>355.0</td>\n",
       "      <td>-24.799204</td>\n",
       "    </tr>\n",
       "    <tr>\n",
       "      <td>9092879</td>\n",
       "      <td>2020</td>\n",
       "      <td>-90.0</td>\n",
       "      <td>357.5</td>\n",
       "      <td>-24.799204</td>\n",
       "    </tr>\n",
       "  </tbody>\n",
       "</table>\n",
       "<p>9092880 rows × 4 columns</p>\n",
       "</div>"
      ],
      "text/plain": [
       "         year   lat    lon        Air\n",
       "0        1948  90.0    0.0 -34.926773\n",
       "1        1948  90.0    2.5 -34.926773\n",
       "2        1948  90.0    5.0 -34.926773\n",
       "3        1948  90.0    7.5 -34.926773\n",
       "4        1948  90.0   10.0 -34.926773\n",
       "...       ...   ...    ...        ...\n",
       "9092875  2020 -90.0  347.5 -24.799204\n",
       "9092876  2020 -90.0  350.0 -24.799204\n",
       "9092877  2020 -90.0  352.5 -24.799204\n",
       "9092878  2020 -90.0  355.0 -24.799204\n",
       "9092879  2020 -90.0  357.5 -24.799204\n",
       "\n",
       "[9092880 rows x 4 columns]"
      ]
     },
     "execution_count": 10,
     "metadata": {},
     "output_type": "execute_result"
    }
   ],
   "source": [
    "df"
   ]
  },
  {
   "cell_type": "code",
   "execution_count": 11,
   "metadata": {
    "scrolled": true
   },
   "outputs": [
    {
     "data": {
      "text/html": [
       "<div>\n",
       "<style scoped>\n",
       "    .dataframe tbody tr th:only-of-type {\n",
       "        vertical-align: middle;\n",
       "    }\n",
       "\n",
       "    .dataframe tbody tr th {\n",
       "        vertical-align: top;\n",
       "    }\n",
       "\n",
       "    .dataframe thead th {\n",
       "        text-align: right;\n",
       "    }\n",
       "</style>\n",
       "<table border=\"1\" class=\"dataframe\">\n",
       "  <thead>\n",
       "    <tr style=\"text-align: right;\">\n",
       "      <th></th>\n",
       "      <th>year</th>\n",
       "      <th>lat</th>\n",
       "      <th>lon</th>\n",
       "      <th>Air</th>\n",
       "    </tr>\n",
       "  </thead>\n",
       "  <tbody>\n",
       "    <tr>\n",
       "      <td>6559488</td>\n",
       "      <td>2000</td>\n",
       "      <td>90.0</td>\n",
       "      <td>0.0</td>\n",
       "      <td>-29.164190</td>\n",
       "    </tr>\n",
       "    <tr>\n",
       "      <td>6559489</td>\n",
       "      <td>2000</td>\n",
       "      <td>90.0</td>\n",
       "      <td>2.5</td>\n",
       "      <td>-29.164190</td>\n",
       "    </tr>\n",
       "    <tr>\n",
       "      <td>6559490</td>\n",
       "      <td>2000</td>\n",
       "      <td>90.0</td>\n",
       "      <td>5.0</td>\n",
       "      <td>-29.164190</td>\n",
       "    </tr>\n",
       "    <tr>\n",
       "      <td>6559491</td>\n",
       "      <td>2000</td>\n",
       "      <td>90.0</td>\n",
       "      <td>7.5</td>\n",
       "      <td>-29.164190</td>\n",
       "    </tr>\n",
       "    <tr>\n",
       "      <td>6559492</td>\n",
       "      <td>2000</td>\n",
       "      <td>90.0</td>\n",
       "      <td>10.0</td>\n",
       "      <td>-29.164190</td>\n",
       "    </tr>\n",
       "    <tr>\n",
       "      <td>...</td>\n",
       "      <td>...</td>\n",
       "      <td>...</td>\n",
       "      <td>...</td>\n",
       "      <td>...</td>\n",
       "    </tr>\n",
       "    <tr>\n",
       "      <td>6685627</td>\n",
       "      <td>2000</td>\n",
       "      <td>-90.0</td>\n",
       "      <td>347.5</td>\n",
       "      <td>-23.232578</td>\n",
       "    </tr>\n",
       "    <tr>\n",
       "      <td>6685628</td>\n",
       "      <td>2000</td>\n",
       "      <td>-90.0</td>\n",
       "      <td>350.0</td>\n",
       "      <td>-23.232578</td>\n",
       "    </tr>\n",
       "    <tr>\n",
       "      <td>6685629</td>\n",
       "      <td>2000</td>\n",
       "      <td>-90.0</td>\n",
       "      <td>352.5</td>\n",
       "      <td>-23.232578</td>\n",
       "    </tr>\n",
       "    <tr>\n",
       "      <td>6685630</td>\n",
       "      <td>2000</td>\n",
       "      <td>-90.0</td>\n",
       "      <td>355.0</td>\n",
       "      <td>-23.232578</td>\n",
       "    </tr>\n",
       "    <tr>\n",
       "      <td>6685631</td>\n",
       "      <td>2000</td>\n",
       "      <td>-90.0</td>\n",
       "      <td>357.5</td>\n",
       "      <td>-23.232578</td>\n",
       "    </tr>\n",
       "  </tbody>\n",
       "</table>\n",
       "<p>126144 rows × 4 columns</p>\n",
       "</div>"
      ],
      "text/plain": [
       "         year   lat    lon        Air\n",
       "6559488  2000  90.0    0.0 -29.164190\n",
       "6559489  2000  90.0    2.5 -29.164190\n",
       "6559490  2000  90.0    5.0 -29.164190\n",
       "6559491  2000  90.0    7.5 -29.164190\n",
       "6559492  2000  90.0   10.0 -29.164190\n",
       "...       ...   ...    ...        ...\n",
       "6685627  2000 -90.0  347.5 -23.232578\n",
       "6685628  2000 -90.0  350.0 -23.232578\n",
       "6685629  2000 -90.0  352.5 -23.232578\n",
       "6685630  2000 -90.0  355.0 -23.232578\n",
       "6685631  2000 -90.0  357.5 -23.232578\n",
       "\n",
       "[126144 rows x 4 columns]"
      ]
     },
     "execution_count": 11,
     "metadata": {},
     "output_type": "execute_result"
    }
   ],
   "source": [
    "df.groupby('year').get_group(2000)"
   ]
  },
  {
   "cell_type": "code",
   "execution_count": 12,
   "metadata": {},
   "outputs": [],
   "source": [
    "# df.groupby(['lat','lon']).mean()\n",
    "# df.groupby(['lon','lat','year']).mean()\n",
    "\n",
    "# the idea is that what the user chooses goes inside the get_group. for example, the user wants to see year==2000\n",
    "# then the script should run:\n",
    "# df.groupby('year').get_group(year_chosen_by_user)"
   ]
  },
  {
   "cell_type": "code",
   "execution_count": 13,
   "metadata": {},
   "outputs": [
    {
     "name": "stdout",
     "output_type": "stream",
     "text": [
      "          lon   lat  year        Air\n",
      "0         0.0 -90.0  1948 -47.957283\n",
      "1         0.0 -90.0  1949 -47.193073\n",
      "2         0.0 -90.0  1950 -47.900543\n",
      "3         0.0 -90.0  1951 -46.080376\n",
      "4         0.0 -90.0  1952 -46.012402\n",
      "...       ...   ...   ...        ...\n",
      "767370  357.5  90.0  2015 -14.228957\n",
      "767371  357.5  90.0  2016 -11.659095\n",
      "767372  357.5  90.0  2017 -12.596512\n",
      "767373  357.5  90.0  2018 -13.097721\n",
      "767374  357.5  90.0  2019 -14.127932\n",
      "\n",
      "[756864 rows x 4 columns]\n"
     ]
    }
   ],
   "source": [
    "df = df.groupby(['lon','lat','year']).mean().reset_index()\n",
    "df = df[df.year != 2020]\n",
    "\n",
    "print(df)"
   ]
  },
  {
   "cell_type": "code",
   "execution_count": 18,
   "metadata": {},
   "outputs": [],
   "source": [
    "#Selecting Data for a Specific Location based on lat&Long \n",
    "#The coordinates need to be rounded based on the grid values (every 2.5°)\n",
    "df_lisbon = df[(df.lat == 37.5)&(df.lon == 350)]\n",
    "df_salvador = df[(df.lat == 12.5)&(df.lon == 322.5)]"
   ]
  },
  {
   "cell_type": "code",
   "execution_count": 19,
   "metadata": {},
   "outputs": [
    {
     "data": {
      "text/html": [
       "<div>\n",
       "<style scoped>\n",
       "    .dataframe tbody tr th:only-of-type {\n",
       "        vertical-align: middle;\n",
       "    }\n",
       "\n",
       "    .dataframe tbody tr th {\n",
       "        vertical-align: top;\n",
       "    }\n",
       "\n",
       "    .dataframe thead th {\n",
       "        text-align: right;\n",
       "    }\n",
       "</style>\n",
       "<table border=\"1\" class=\"dataframe\">\n",
       "  <thead>\n",
       "    <tr style=\"text-align: right;\">\n",
       "      <th></th>\n",
       "      <th>lon</th>\n",
       "      <th>lat</th>\n",
       "      <th>year</th>\n",
       "      <th>Air</th>\n",
       "    </tr>\n",
       "  </thead>\n",
       "  <tbody>\n",
       "    <tr>\n",
       "      <td>690434</td>\n",
       "      <td>322.5</td>\n",
       "      <td>12.5</td>\n",
       "      <td>1948</td>\n",
       "      <td>24.724546</td>\n",
       "    </tr>\n",
       "    <tr>\n",
       "      <td>690435</td>\n",
       "      <td>322.5</td>\n",
       "      <td>12.5</td>\n",
       "      <td>1949</td>\n",
       "      <td>24.439535</td>\n",
       "    </tr>\n",
       "    <tr>\n",
       "      <td>690436</td>\n",
       "      <td>322.5</td>\n",
       "      <td>12.5</td>\n",
       "      <td>1950</td>\n",
       "      <td>24.522449</td>\n",
       "    </tr>\n",
       "    <tr>\n",
       "      <td>690437</td>\n",
       "      <td>322.5</td>\n",
       "      <td>12.5</td>\n",
       "      <td>1951</td>\n",
       "      <td>24.683224</td>\n",
       "    </tr>\n",
       "    <tr>\n",
       "      <td>690438</td>\n",
       "      <td>322.5</td>\n",
       "      <td>12.5</td>\n",
       "      <td>1952</td>\n",
       "      <td>24.612885</td>\n",
       "    </tr>\n",
       "    <tr>\n",
       "      <td>...</td>\n",
       "      <td>...</td>\n",
       "      <td>...</td>\n",
       "      <td>...</td>\n",
       "      <td>...</td>\n",
       "    </tr>\n",
       "    <tr>\n",
       "      <td>690501</td>\n",
       "      <td>322.5</td>\n",
       "      <td>12.5</td>\n",
       "      <td>2015</td>\n",
       "      <td>25.101936</td>\n",
       "    </tr>\n",
       "    <tr>\n",
       "      <td>690502</td>\n",
       "      <td>322.5</td>\n",
       "      <td>12.5</td>\n",
       "      <td>2016</td>\n",
       "      <td>25.636391</td>\n",
       "    </tr>\n",
       "    <tr>\n",
       "      <td>690503</td>\n",
       "      <td>322.5</td>\n",
       "      <td>12.5</td>\n",
       "      <td>2017</td>\n",
       "      <td>25.559212</td>\n",
       "    </tr>\n",
       "    <tr>\n",
       "      <td>690504</td>\n",
       "      <td>322.5</td>\n",
       "      <td>12.5</td>\n",
       "      <td>2018</td>\n",
       "      <td>24.701239</td>\n",
       "    </tr>\n",
       "    <tr>\n",
       "      <td>690505</td>\n",
       "      <td>322.5</td>\n",
       "      <td>12.5</td>\n",
       "      <td>2019</td>\n",
       "      <td>25.085978</td>\n",
       "    </tr>\n",
       "  </tbody>\n",
       "</table>\n",
       "<p>72 rows × 4 columns</p>\n",
       "</div>"
      ],
      "text/plain": [
       "          lon   lat  year        Air\n",
       "690434  322.5  12.5  1948  24.724546\n",
       "690435  322.5  12.5  1949  24.439535\n",
       "690436  322.5  12.5  1950  24.522449\n",
       "690437  322.5  12.5  1951  24.683224\n",
       "690438  322.5  12.5  1952  24.612885\n",
       "...       ...   ...   ...        ...\n",
       "690501  322.5  12.5  2015  25.101936\n",
       "690502  322.5  12.5  2016  25.636391\n",
       "690503  322.5  12.5  2017  25.559212\n",
       "690504  322.5  12.5  2018  24.701239\n",
       "690505  322.5  12.5  2019  25.085978\n",
       "\n",
       "[72 rows x 4 columns]"
      ]
     },
     "execution_count": 19,
     "metadata": {},
     "output_type": "execute_result"
    }
   ],
   "source": [
    "df_lisbon\n",
    "df_salvador"
   ]
  },
  {
   "cell_type": "code",
   "execution_count": 20,
   "metadata": {},
   "outputs": [
    {
     "data": {
      "image/png": "[encoded data removed]",
      "text/plain": [
       "<Figure size 1080x72 with 1 Axes>"
      ]
     },
     "metadata": {
      "needs_background": "light"
     },
     "output_type": "display_data"
    }
   ],
   "source": [
    "sns.palplot(sns.color_palette(\"husl\", 15))"
   ]
  },
  {
   "cell_type": "code",
   "execution_count": 25,
   "metadata": {},
   "outputs": [
    {
     "data": {
      "image/png": "[encoded data removed]",
      "text/plain": [
       "<Figure size 432x288 with 1 Axes>"
      ]
     },
     "metadata": {
      "needs_background": "light"
     },
     "output_type": "display_data"
    }
   ],
   "source": [
    "time_series_lisbon = sns.lineplot (x='year',\n",
    "                                  y = 'Air',\n",
    "                                  data = df_salvador\n",
    "                                  ).set_title('brrr')\n",
    "\n",
    "plt.show()"
   ]
  },
  {
   "cell_type": "code",
   "execution_count": null,
   "metadata": {},
   "outputs": [],
   "source": []
  }
 ],
 "metadata": {
  "kernelspec": {
   "display_name": "Python 3",
   "language": "python",
   "name": "python3"
  },
  "language_info": {
   "codemirror_mode": {
    "name": "ipython",
    "version": 3
   },
   "file_extension": ".py",
   "mimetype": "text/x-python",
   "name": "python",
   "nbconvert_exporter": "python",
   "pygments_lexer": "ipython3",
   "version": "3.7.4"
  }
 },
 "nbformat": 4,
 "nbformat_minor": 2
}
